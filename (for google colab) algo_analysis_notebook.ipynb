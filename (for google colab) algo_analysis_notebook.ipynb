{
  "nbformat": 4,
  "nbformat_minor": 0,
  "metadata": {
    "colab": {
      "provenance": [],
      "authorship_tag": "ABX9TyNkOhhwmcxkAPYoduDrA3dT",
      "include_colab_link": true
    },
    "kernelspec": {
      "name": "python3",
      "display_name": "Python 3"
    },
    "language_info": {
      "name": "python"
    }
  },
  "cells": [
    {
      "cell_type": "markdown",
      "metadata": {
        "id": "view-in-github",
        "colab_type": "text"
      },
      "source": [
        "<a href=\"https://colab.research.google.com/github/priyanshu9896/algo-efficiency-mini-project-Priyanshu/blob/main/(for%20google%20colab)%20algo_analysis_notebook.ipynb\" target=\"_parent\"><img src=\"https://colab.research.google.com/assets/colab-badge.svg\" alt=\"Open In Colab\"/></a>"
      ]
    },
    {
      "cell_type": "markdown",
      "source": [
        "# Lab Assignment 1 — Algorithm Efficiency Analysis\n",
        "\n",
        "**Objective:**  \n",
        "The goal of this assignment is to compare the efficiency of different algorithms in terms of **time** and **memory usage**.  \n",
        "We implement classic algorithms (sorting, searching, Fibonacci), analyze them with profiling, and visualize the results.\n",
        "\n",
        "**Contents:**  \n",
        "1. Setup & Imports  \n",
        "2. Algorithm Implementations  \n",
        "   - Fibonacci (Naive & DP)  \n",
        "   - Sorting (Bubble, Insertion, Selection, Merge, Quick)  \n",
        "   - Binary Search  \n",
        "3. Profiling Helpers  \n",
        "4. Experimental Analysis  \n",
        "5. Memory Profiling Demo  \n",
        "6. Visualization (Plots)  \n",
        "7. Summary & Discussion  \n",
        "\n",
        "**Tools Used:** Python, NumPy, Matplotlib, memory_profiler, psutil.  \n"
      ],
      "metadata": {
        "id": "snAcvhKsiH87"
      }
    },
    {
      "cell_type": "code",
      "source": [
        "# Install extra packages in Colab\n",
        "!pip install memory_profiler psutil\n"
      ],
      "metadata": {
        "id": "aMUxr5p0g5Mn"
      },
      "execution_count": null,
      "outputs": []
    },
    {
      "cell_type": "code",
      "source": [
        "# Imports\n",
        "import sys, platform, os, time, statistics, random\n",
        "import numpy as np\n",
        "import matplotlib\n",
        "import matplotlib.pyplot as plt\n",
        "import psutil\n",
        "from memory_profiler import memory_usage\n",
        "\n",
        "# Enable memory profiler magic\n",
        "%load_ext memory_profiler\n",
        "\n",
        "# Reproducibility\n",
        "random.seed(0)\n",
        "np.random.seed(0)\n",
        "os.makedirs(\"images\", exist_ok=True)\n",
        "\n",
        "# Environment info\n",
        "print(\"Python:\", sys.version.split()[0])\n",
        "print(\"Platform:\", platform.platform())\n",
        "print(\"NumPy:\", np.__version__)\n",
        "print(\"Matplotlib:\", matplotlib.__version__)\n",
        "print(\"psutil:\", psutil.__version__)\n"
      ],
      "metadata": {
        "id": "U80lZgv5g5Iu"
      },
      "execution_count": null,
      "outputs": []
    },
    {
      "cell_type": "code",
      "source": [
        "# Imports\n",
        "import sys, platform, os, time, statistics, random\n",
        "import numpy as np\n",
        "import matplotlib\n",
        "import matplotlib.pyplot as plt\n",
        "import psutil\n",
        "from memory_profiler import memory_usage\n",
        "\n",
        "# Enable memory profiler magic\n",
        "%load_ext memory_profiler\n",
        "\n",
        "# Reproducibility\n",
        "random.seed(0)\n",
        "np.random.seed(0)\n",
        "os.makedirs(\"images\", exist_ok=True)\n",
        "\n",
        "# Environment info\n",
        "print(\"Python:\", sys.version.split()[0])\n",
        "print(\"Platform:\", platform.platform())\n",
        "print(\"NumPy:\", np.__version__)\n",
        "print(\"Matplotlib:\", matplotlib.__version__)\n",
        "print(\"psutil:\", psutil.__version__)\n"
      ],
      "metadata": {
        "id": "G-v9qhOEg5En"
      },
      "execution_count": null,
      "outputs": []
    },
    {
      "cell_type": "code",
      "source": [
        "def fib_naive(n):\n",
        "    if n <= 1:\n",
        "        return n\n",
        "    return fib_naive(n-1) + fib_naive(n-2)\n"
      ],
      "metadata": {
        "id": "z_YL0L5Og5Cd"
      },
      "execution_count": null,
      "outputs": []
    },
    {
      "cell_type": "code",
      "source": [
        "### Fibonacci — Dynamic Programming (Memoization)\n",
        "- Input: integer n ≥ 0\n",
        "- Output: nth Fibonacci number\n",
        "- Time Complexity: O(n)\n",
        "- Space Complexity: O(n) for memo\n"
      ],
      "metadata": {
        "id": "PEfZV6ggg4_6"
      },
      "execution_count": null,
      "outputs": []
    },
    {
      "cell_type": "code",
      "source": [
        "memo = {}\n",
        "def fib_dp(n):\n",
        "    if n in memo:\n",
        "        return memo[n]\n",
        "    if n <= 1:\n",
        "        result = n\n",
        "    else:\n",
        "        result = fib_dp(n-1) + fib_dp(n-2)\n",
        "    memo[n] = result\n",
        "    return result\n"
      ],
      "metadata": {
        "id": "On4WX6mug49x"
      },
      "execution_count": null,
      "outputs": []
    },
    {
      "cell_type": "code",
      "source": [
        "### Merge Sort\n",
        "- Input: List of n numbers\n",
        "- Output: Sorted list\n",
        "- Time Complexity: O(n log n)\n",
        "- Space Complexity: O(n)\n"
      ],
      "metadata": {
        "id": "4A7VAxQsg47Z"
      },
      "execution_count": null,
      "outputs": []
    },
    {
      "cell_type": "code",
      "source": [
        "def merge_sort(arr):\n",
        "    if len(arr) > 1:\n",
        "        mid = len(arr) // 2\n",
        "        L, R = arr[:mid], arr[mid:]\n",
        "        merge_sort(L)\n",
        "        merge_sort(R)\n",
        "        i = j = k = 0\n",
        "        while i < len(L) and j < len(R):\n",
        "            if L[i] < R[j]: arr[k] = L[i]; i += 1\n",
        "            else: arr[k] = R[j]; j += 1\n",
        "            k += 1\n",
        "        while i < len(L): arr[k] = L[i]; i += 1; k += 1\n",
        "        while j < len(R): arr[k] = R[j]; j += 1; k += 1\n",
        "    return arr\n"
      ],
      "metadata": {
        "id": "xX7kEtwUg44x"
      },
      "execution_count": null,
      "outputs": []
    },
    {
      "cell_type": "code",
      "source": [
        "### Binary Search\n",
        "- Input: Sorted list + target\n",
        "- Output: Index of target (or -1 if not found)\n",
        "- Time Complexity: O(log n)\n",
        "- Space Complexity: O(1)\n"
      ],
      "metadata": {
        "id": "XwqzHcBZg42e"
      },
      "execution_count": null,
      "outputs": []
    },
    {
      "cell_type": "code",
      "source": [
        "def binary_search(arr, target):\n",
        "    low, high = 0, len(arr) - 1\n",
        "    while low <= high:\n",
        "        mid = (low + high) // 2\n",
        "        if arr[mid] == target: return mid\n",
        "        elif arr[mid] < target: low = mid + 1\n",
        "        else: high = mid - 1\n",
        "    return -1\n"
      ],
      "metadata": {
        "id": "5Ken9hXZhhjJ"
      },
      "execution_count": null,
      "outputs": []
    },
    {
      "cell_type": "code",
      "source": [
        "def profile_time(func, arr):\n",
        "    start = time.time()\n",
        "    func(arr.copy())\n",
        "    end = time.time()\n",
        "    return end - start\n",
        "\n",
        "def profile_fib_time(func, n):\n",
        "    start = time.time()\n",
        "    func(n)\n",
        "    end = time.time()\n",
        "    return end - start\n"
      ],
      "metadata": {
        "id": "Nu-scZTihhhE"
      },
      "execution_count": null,
      "outputs": []
    },
    {
      "cell_type": "code",
      "source": [
        "arr = np.random.randint(0, 10000, 2000).tolist()\n",
        "\n",
        "def wrapper_merge(a): merge_sort(a)\n",
        "def wrapper_quick(a): quick_sort(a)\n",
        "\n",
        "for name, wrapper in [(\"Merge Sort\", wrapper_merge), (\"Quick Sort\", wrapper_quick)]:\n",
        "    start = time.time()\n",
        "    mem = memory_usage((wrapper, (arr,)), interval=0.01)\n",
        "    end = time.time()\n",
        "    print(f\"{name} → time = {end-start:.4f}s, peak mem = {max(mem)-min(mem):.2f} MiB\")\n"
      ],
      "metadata": {
        "id": "enIJ2MgRhhe9"
      },
      "execution_count": null,
      "outputs": []
    },
    {
      "cell_type": "code",
      "source": [
        "sorting_algorithms = {\n",
        "    \"Insertion Sort\": insertion_sort,\n",
        "    \"Selection Sort\": selection_sort,\n",
        "    \"Bubble Sort\": bubble_sort,\n",
        "    \"Merge Sort\": merge_sort,\n",
        "    \"Quick Sort\": quick_sort\n",
        "}\n",
        "\n",
        "input_sizes_sort = [100, 500, 1000, 2000, 3000, 5000]\n",
        "time_results_sort = {name: [] for name in sorting_algorithms}\n",
        "\n",
        "for size in input_sizes_sort:\n",
        "    test_array = list(np.random.randint(0, 10000, size))\n",
        "    for name, func in sorting_algorithms.items():\n",
        "        elapsed_time = profile_time(func, test_array)\n",
        "        time_results_sort[name].append(elapsed_time)\n"
      ],
      "metadata": {
        "id": "04ufGzQchhcX"
      },
      "execution_count": null,
      "outputs": []
    },
    {
      "cell_type": "code",
      "source": [
        "fib_algorithms = {\n",
        "    \"Naive Recursive\": fib_naive,\n",
        "    \"Dynamic Programming\": fib_dp\n",
        "}\n",
        "\n",
        "input_sizes_fib = range(1, 36)\n",
        "time_results_fib = {name: [] for name in fib_algorithms}\n",
        "\n",
        "for n in input_sizes_fib:\n",
        "    for name, func in fib_algorithms.items():\n",
        "        if name == \"Dynamic Programming\": memo.clear()\n",
        "        elapsed_time = profile_fib_time(func, n)\n",
        "        time_results_fib[name].append(elapsed_time)\n"
      ],
      "metadata": {
        "id": "tghzyTBZhhaB"
      },
      "execution_count": null,
      "outputs": []
    },
    {
      "cell_type": "code",
      "source": [
        "plt.figure(figsize=(12, 7))\n",
        "for name, times in time_results_sort.items():\n",
        "    plt.plot(input_sizes_sort, times, marker='o', label=name)\n",
        "plt.xlabel(\"Input Size (n)\")\n",
        "plt.ylabel(\"Execution Time (s)\")\n",
        "plt.title(\"Sorting Algorithm Performance Comparison\")\n",
        "plt.legend(); plt.grid(True)\n",
        "plt.savefig(\"images/sorting_time.png\", dpi=200)\n",
        "plt.show()\n"
      ],
      "metadata": {
        "id": "mQMbBQHghhXf"
      },
      "execution_count": null,
      "outputs": []
    },
    {
      "cell_type": "code",
      "source": [
        "plt.figure(figsize=(12, 7))\n",
        "plt.plot(input_sizes_fib, time_results_fib[\"Naive Recursive\"], marker='o', label=\"Naive Recursive\")\n",
        "plt.plot(input_sizes_fib, time_results_fib[\"Dynamic Programming\"], marker='o', label=\"Dynamic Programming\")\n",
        "plt.xlabel(\"Fibonacci n\")\n",
        "plt.ylabel(\"Execution Time (s)\")\n",
        "plt.title(\"Fibonacci Algorithm Performance\")\n",
        "plt.yscale('log')\n",
        "plt.legend(); plt.grid(True)\n",
        "plt.savefig(\"images/fib_time.png\", dpi=200)\n",
        "plt.show()\n"
      ],
      "metadata": {
        "id": "lpm57w1EhhVE"
      },
      "execution_count": null,
      "outputs": []
    },
    {
      "cell_type": "code",
      "source": [
        "arr = sorted(np.random.randint(0, 100, 20).tolist())\n",
        "target = arr[10]\n",
        "print(\"Array:\", arr)\n",
        "print(\"Target:\", target)\n",
        "print(\"Index found:\", binary_search(arr, target))\n"
      ],
      "metadata": {
        "id": "zeO4L8i7hhSv"
      },
      "execution_count": null,
      "outputs": []
    },
    {
      "cell_type": "code",
      "source": [
        "# Summary & Discussion\n",
        "\n",
        "| Algorithm | Time Complexity | Space Complexity | Notes |\n",
        "|-----------|----------------|------------------|-------|\n",
        "| Bubble Sort | O(n^2) | O(1) | Inefficient |\n",
        "| Insertion Sort | O(n^2) | O(1) | Good for small/near-sorted |\n",
        "| Selection Sort | O(n^2) | O(1) | Fewer swaps |\n",
        "| Merge Sort | O(n log n) | O(n) | Stable, predictable |\n",
        "| Quick Sort | O(n log n) avg | O(log n) avg | Fast, but worst-case O(n^2) |\n",
        "| Fibonacci (Naive) | O(2^n) | O(n) | Very slow |\n",
        "| Fibonacci (DP) | O(n) | O(n) | Efficient |\n",
        "\n",
        "### Recursion Depth Note\n",
        "- Naive Fibonacci and recursive sorts may hit Python’s recursion limit (~1000).\n",
        "- For large inputs, iterative or DP approaches are safer.\n"
      ],
      "metadata": {
        "id": "L-zWWn55hhJ3"
      },
      "execution_count": null,
      "outputs": []
    },
    {
      "cell_type": "markdown",
      "source": [
        "# 🔎 Summary & Conclusion\n",
        "\n",
        "- **Sorting Algorithms:**  \n",
        "  - Quadratic-time algorithms (Bubble, Insertion, Selection) scale poorly beyond ~2000 elements.  \n",
        "  - Merge Sort and Quick Sort are significantly faster for large inputs.  \n",
        "  - Quick Sort is fastest in practice, but Merge Sort guarantees O(n log n) in all cases.  \n",
        "\n",
        "- **Fibonacci Algorithms:**  \n",
        "  - Naive recursive implementation grows exponentially, unusable beyond n≈30.  \n",
        "  - Dynamic Programming is efficient and linear time.  \n",
        "\n",
        "- **Memory Usage:**  \n",
        "  - Merge Sort consumes more memory due to auxiliary arrays.  \n",
        "  - Quick Sort is memory-efficient (logarithmic stack).  \n",
        "\n",
        "- **Recursion Depth:**  \n",
        "  - Python’s recursion limit (~1000) can cause issues with deeply recursive algorithms.  \n",
        "  - Iterative or DP-based solutions are recommended for large input sizes.  \n",
        "\n",
        "**Overall:**  \n",
        "- The experimental results align with theoretical **Big-O complexities**.  \n",
        "- Memory profiling highlights the tradeoff between time and space.  \n",
        "- Visualizations provide clear evidence of efficiency differences.  \n",
        "\n",
        "✅ This completes the assignment as per requirements (setup, implementation, profiling, plots, discussion).\n"
      ],
      "metadata": {
        "id": "cvA51nCCiMaQ"
      }
    }
  ]
}