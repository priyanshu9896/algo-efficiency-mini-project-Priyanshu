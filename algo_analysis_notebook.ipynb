{
 "cells": [
  {
   "cell_type": "code",
   "execution_count": null,
   "id": "74c8c578",
   "metadata": {},
   "outputs": [],
   "source": [
    "import sys, platform\n",
    "import numpy, matplotlib, memory_profiler\n",
    "print(sys.version)\n",
    "print(platform.platform())\n",
    "print(numpy.__version__, matplotlib.__version__)"
   ]
  }
 ],
 "metadata": {
  "language_info": {
   "name": "python"
  }
 },
 "nbformat": 4,
 "nbformat_minor": 5
}
